{
 "cells": [
  {
   "cell_type": "code",
   "execution_count": 1,
   "id": "4de0675f",
   "metadata": {},
   "outputs": [
    {
     "ename": "ModuleNotFoundError",
     "evalue": "No module named 'pandas'",
     "output_type": "error",
     "traceback": [
      "\u001b[31m---------------------------------------------------------------------------\u001b[39m",
      "\u001b[31mModuleNotFoundError\u001b[39m                       Traceback (most recent call last)",
      "\u001b[36mCell\u001b[39m\u001b[36m \u001b[39m\u001b[32mIn[1]\u001b[39m\u001b[32m, line 2\u001b[39m\n\u001b[32m      1\u001b[39m \u001b[38;5;66;03m# Import libraries\u001b[39;00m\n\u001b[32m----> \u001b[39m\u001b[32m2\u001b[39m \u001b[38;5;28;01mimport\u001b[39;00m\u001b[38;5;250m \u001b[39m\u001b[34;01mpandas\u001b[39;00m\u001b[38;5;250m \u001b[39m\u001b[38;5;28;01mas\u001b[39;00m\u001b[38;5;250m \u001b[39m\u001b[34;01mpd\u001b[39;00m\n\u001b[32m      3\u001b[39m \u001b[38;5;28;01mimport\u001b[39;00m\u001b[38;5;250m \u001b[39m\u001b[34;01mmatplotlib\u001b[39;00m\u001b[34;01m.\u001b[39;00m\u001b[34;01mpyplot\u001b[39;00m\u001b[38;5;250m \u001b[39m\u001b[38;5;28;01mas\u001b[39;00m\u001b[38;5;250m \u001b[39m\u001b[34;01mplt\u001b[39;00m\n\u001b[32m      4\u001b[39m \u001b[38;5;28;01mimport\u001b[39;00m\u001b[38;5;250m \u001b[39m\u001b[34;01mseaborn\u001b[39;00m\u001b[38;5;250m \u001b[39m\u001b[38;5;28;01mas\u001b[39;00m\u001b[38;5;250m \u001b[39m\u001b[34;01msns\u001b[39;00m\n",
      "\u001b[31mModuleNotFoundError\u001b[39m: No module named 'pandas'"
     ]
    }
   ],
   "source": [
    "# Import libraries\n",
    "import pandas as pd\n",
    "import matplotlib.pyplot as plt\n",
    "import seaborn as sns\n",
    "import plotly.express as px\n",
    "\n",
    "#Load the data\n",
    "data_url = 'https://github.com/owid/covid-19-data/blob/master/public/data/owid-covid-data.csv?raw=true'\n",
    "df = pd.read_csv(data_url)\n",
    "\n",
    "#Explore the data\n",
    "print(df.head())\n",
    "print(df.info())\n",
    "print(df.describe())\n",
    "print(df.isnull().sum())\n",
    "\n",
    "#Clean the data\n",
    "countries_of_interest = ['Kenya', 'USA', 'India']\n",
    "df_filtered = df[df['location'].isin(countries_of_interest)].copy()\n",
    "df_filtered['date'] = pd.to_datetime(df_filtered['date'])\n",
    "numerical_cols = ['total_cases', 'new_cases', 'total_deaths', 'new_deaths', 'total_vaccinations']\n",
    "for col in numerical_cols:\n",
    "    df_filtered[col] = df_filtered[col].interpolate()\n",
    "df_filtered.dropna(subset=['date'], inplace=True)\n",
    "print(df_filtered.head())\n",
    "print(df_filtered.info())\n",
    "\n",
    "#Exploratory Data Analysis (EDA)\n",
    "plt.figure(figsize=(12, 6))\n",
    "sns.set_style('darkgrid')\n",
    "for country in countries_of_interest:\n",
    "    country_data = df_filtered[df_filtered['location'] == country]\n",
    "    plt.plot(country_data['date'], country_data['total_cases'], label=country, linewidth=2)\n",
    "plt.title('Total COVID-19 Cases Over Time', fontsize=16)\n",
    "plt.xlabel('Date', fontsize=12)\n",
    "plt.ylabel('Total Cases', fontsize=12)\n",
    "plt.legend(fontsize=10)\n",
    "plt.xticks(rotation=45)\n",
    "plt.show()\n",
    "\n",
    "# Repeat similar plotting code for total deaths, new cases, and death rate\n",
    "\n",
    "df_filtered['death_rate'] = df_filtered['total_deaths'] / df_filtered['total_cases']\n",
    "plt.figure(figsize=(12, 6))\n",
    "for country in countries_of_interest:\n",
    "    country_data = df_filtered[df_filtered['location'] == country]\n",
    "    plt.plot(country_data['date'], country_data['death_rate'], label=country, linewidth=2)\n",
    "plt.title('COVID-19 Death Rate (Total Deaths / Total Cases)', fontsize=16)\n",
    "plt.xlabel('Date', fontsize=12)\n",
    "plt.ylabel('Death Rate', fontsize=12)\n",
    "plt.legend(fontsize=10)\n",
    "plt.xticks(rotation=45)\n",
    "plt.show()\n",
    "\n",
    "#Visualize Vaccination Progress\n",
    "plt.figure(figsize=(12, 6))\n",
    "for country in countries_of_interest:\n",
    "    country_data = df_filtered[df_filtered['location'] == country]\n",
    "    plt.plot(country_data['date'], country_data['total_vaccinations'], label=country, linewidth=2)\n",
    "plt.title('Total COVID-19 Vaccinations Over Time', fontsize=16)\n",
    "plt.xlabel('Date', fontsize=12)\n",
    "plt.ylabel('Total Vaccinations', fontsize=12)\n",
    "plt.legend(fontsize=10)\n",
    "plt.xticks(rotation=45)\n",
    "plt.show()\n",
    "\n",
    "#Choropleth Map \n",
    "latest_data = df_filtered.groupby('location').last().reset_index()\n",
    "fig = px.choropleth(latest_data,\n",
    "                    locations='location',\n",
    "                    locationmode='country names',\n",
    "                    color='total_cases',\n",
    "                    hover_name='location',\n",
    "                    title='Total COVID-19 Cases by Country (Latest Data)',\n",
    "                    color_continuous_scale='Reds')\n",
    "fig.show()\n"
   ]
  },
  {
   "cell_type": "markdown",
   "id": "52fcd023",
   "metadata": {},
   "source": []
  },
  {
   "cell_type": "markdown",
   "id": "d88846a4",
   "metadata": {},
   "source": [
    "## Import Libraries\n",
    "\n",
    "This code imports the necessary Python libraries for data analysis and visualization:\n",
    "\n",
    "pandas (pd): For data manipulation and working with DataFrames.\n",
    "\n",
    "matplotlib.pyplot (plt): For creating basic plots and charts.\n",
    "\n",
    "seaborn (sns): For enhanced and more visually appealing plots.\n",
    "\n",
    "plotly.express (px): For creating interactive plots, including the choropleth map."
   ]
  },
  {
   "cell_type": "markdown",
   "id": "350fbb08",
   "metadata": {},
   "source": [
    "## Load the Data\n",
    "\n",
    "This code downloads the COVID-19 dataset from the Our World in Data GitHub repository and loads it into a pandas DataFrame:\n",
    "\n",
    "data_url stores the URL of the CSV file.\n",
    "\n",
    "pd.read_csv(data_url) reads the CSV file from the URL into a DataFrame, which is then assigned to the variable df."
   ]
  },
  {
   "cell_type": "markdown",
   "id": "f5224d8c",
   "metadata": {},
   "source": [
    "## Explore the Data\n",
    "\n",
    "This code provides a preliminary look at the structure and content of the dataset:\n",
    "\n",
    "df.head(): Displays the first 5 rows of the DataFrame, showing the columns and some sample data.\n",
    "\n",
    "df.info(): Prints a summary of the DataFrame, including the column names, data types, and the number of non-null values.\n",
    "\n",
    "df.describe(): Generates descriptive statistics for the numerical columns in the DataFrame, such as mean, standard deviation, and quartiles.\n",
    "\n",
    "df.isnull().sum(): Calculates the number of missing values in each column, which helps in identifying data cleaning needs.\n",
    "\n"
   ]
  },
  {
   "cell_type": "markdown",
   "id": "48de5283",
   "metadata": {},
   "source": [
    "## Clean the Data\n",
    "\n",
    "This code performs several data cleaning and preprocessing steps:\n",
    "\n",
    "countries_of_interest: Defines a list of countries ('Kenya', 'USA', 'India') for focused analysis.\n",
    "\n",
    "df_filtered: Filters the DataFrame to include only the specified countries.  The .copy() method is used to create a new DataFrame, avoiding potential issues with modifying a slice of the original DataFrame.\n",
    "\n",
    "df_filtered['date']: Converts the 'date' column to datetime objects, enabling time-based operations.\n",
    "\n",
    "numerical_cols: Specifies the numerical columns to be processed.\n",
    "\n",
    "The loop iterates through the numerical columns and fills missing values using interpolation, which estimates missing values based on surrounding data.\n",
    "\n",
    "df_filtered.dropna(subset=['date'], inplace=True): Removes rows where the 'date' column has missing values.\n",
    "\n",
    "The final prints display the first few rows and the structure of the cleaned data."
   ]
  },
  {
   "cell_type": "markdown",
   "id": "8e6899f3",
   "metadata": {},
   "source": []
  },
  {
   "cell_type": "markdown",
   "id": "7e374096",
   "metadata": {},
   "source": [
    "## Total COVID-19 Cases Over Time\n",
    "\n",
    "This code generates a line plot showing the trend of total COVID-19 cases over time for the selected countries:\n",
    "\n",
    "A figure of size 12x6 is created for the plot.\n",
    "\n",
    "sns.set_style('darkgrid') applies a dark grid style to the plot for better readability.\n",
    "\n",
    "The code iterates through the countries_of_interest.  In each iteration, it filters the data for a specific country and plots the total_cases against the date.\n",
    "\n",
    "The plot includes a title, x-axis label ('Date'), y-axis label ('Total Cases'), and a legend to distinguish the countries.\n",
    "\n",
    "plt.xticks(rotation=45) rotates the x-axis labels by 45 degrees for better readability.\n",
    "\n",
    "plt.show() displays the plot."
   ]
  },
  {
   "cell_type": "markdown",
   "id": "59594f4b",
   "metadata": {},
   "source": [
    "## Total COVID-19 Deaths Over Time\n",
    "This code generates a line plot showing the trend of total COVID-19 deaths over time for the selected countries.  The structure of this code is very similar to the previous one, but it plots total_deaths instead of total_cases."
   ]
  },
  {
   "cell_type": "markdown",
   "id": "0923872b",
   "metadata": {},
   "source": [
    "Daily New COVID-19 Cases\n",
    "This code generates a line plot showing the daily new COVID-19 cases for the selected countries.  It plots new_cases against date for each country."
   ]
  },
  {
   "cell_type": "markdown",
   "id": "21c44c3a",
   "metadata": {},
   "source": []
  },
  {
   "cell_type": "markdown",
   "id": "95296f4e",
   "metadata": {},
   "source": [
    "## COVID-19 Death Rate (Total Deaths / Total Cases)\n",
    "\n",
    "This code calculates the death rate as the ratio of total deaths to total cases and plots it over time for the selected countries:\n",
    "\n",
    "df_filtered['death_rate'] = df_filtered['total_deaths'] / df_filtered['total_cases']:  Calculates the death rate and stores it in a new column called 'death_rate'.\n",
    "\n",
    "The subsequent code generates a line plot of the 'death_rate' over time for each country."
   ]
  },
  {
   "cell_type": "markdown",
   "id": "486b4c3b",
   "metadata": {},
   "source": []
  },
  {
   "cell_type": "markdown",
   "id": "9688136c",
   "metadata": {},
   "source": [
    "## Total COVID-19 Vaccinations Over Time\n",
    "\n",
    "This code generates a line plot showing the total number of COVID-19 vaccinations over time for the selected countries."
   ]
  },
  {
   "cell_type": "markdown",
   "id": "d0bb8768",
   "metadata": {},
   "source": []
  },
  {
   "cell_type": "markdown",
   "id": "a98a2262",
   "metadata": {},
   "source": [
    "## Choropleth Map of Total Cases (Latest Data)\n",
    "\n",
    "This code creates a choropleth map to visualize the total number of COVID-19 cases for the selected countries using the latest available data:\n",
    "\n",
    "latest_data = df_filtered.groupby('location').last().reset_index(): Groups the filtered data by country and extracts the last recorded data point for each country, representing the most recent data.\n",
    "\n",
    "px.choropleth(): Creates the choropleth map.\n",
    "\n",
    "locations='location': Specifies the column containing the country names.\n",
    "\n",
    "locationmode='country names':  Indicates that the locations are specified as country names.\n",
    "\n",
    "color='total_cases':  Sets the color of each country based on the total_cases value.\n",
    "\n",
    "hover_name='location':  Displays the country name when hovering over it.\n",
    "\n",
    "title: Sets the title of the map.\n",
    "\n",
    "color_continuous_scale='Reds':  Uses a red color scale to represent the number of cases.\n",
    "\n",
    "fig.show():  Displays the interactive map."
   ]
  },
  {
   "cell_type": "markdown",
   "id": "6f601706",
   "metadata": {},
   "source": []
  }
 ],
 "metadata": {
  "kernelspec": {
   "display_name": ".venv",
   "language": "python",
   "name": "python3"
  },
  "language_info": {
   "codemirror_mode": {
    "name": "ipython",
    "version": 3
   },
   "file_extension": ".py",
   "mimetype": "text/x-python",
   "name": "python",
   "nbconvert_exporter": "python",
   "pygments_lexer": "ipython3",
   "version": "3.13.3"
  }
 },
 "nbformat": 4,
 "nbformat_minor": 5
}
